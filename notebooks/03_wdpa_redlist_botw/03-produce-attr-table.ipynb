{
 "cells": [
  {
   "cell_type": "code",
   "execution_count": 18,
   "metadata": {},
   "outputs": [],
   "source": [
    "import affine, concurrent, cStringIO, glob, IPython, json, os, PIL, sys, thread, time, traceback\n"
   ]
  },
  {
   "cell_type": "code",
   "execution_count": 25,
   "metadata": {},
   "outputs": [],
   "source": [
    "def copy_to_csv_with_headers(tname):\n",
    "    c = \"\"\"\n",
    "    COPY ( \n",
    "        SELECT \n",
    "          m.wdpa_gid - 1.0 as ogrfeature,\n",
    "          wdpa.wdpaid as wdpaid,\n",
    "          m.intersection_area as intersection_area,\n",
    "          m.species_area as species_area,\n",
    "          m.presence as presence,\n",
    "          m.origin as origin,\n",
    "          m.seasonal as seasonal,\n",
    "          m.code as code,\n",
    "          m.kingdom as kingdom,\n",
    "          m.phylum as phylum,\n",
    "          m.class as class,\n",
    "          m.order_ as order_,\n",
    "          m.family as family,\n",
    "          m.genus as genus,\n",
    "          m.binomial as binomial,\n",
    "          m.year as year\n",
    "        FROM wdpa_%s_intersections as m\n",
    "        INNER JOIN wdpa_june2018_shapefile_polygons AS wdpa ON wdpa.gid = m.wdpa_gid\n",
    "        WHERE m.code = 'LC'\n",
    "          OR m.code = 'NT'\n",
    "          OR m.code = 'VU'\n",
    "          OR m.code = 'EN'\n",
    "          OR m.code = 'CR'\n",
    "        ORDER BY m.wdpa_gid\n",
    ") TO STDOUT WITH CSV HEADER \n",
    "    ;\n",
    "    \"\"\"\n",
    "    c = c % tname\n",
    "    cmd = 'psql -d biodiversity -c \"%s\" > /home/gabrielo/Code/wdpa-redlist/data/attribute_table/attr_table.csv' % c \n",
    "    !$cmd\n",
    "\n",
    "def append_to_csv(tname):\n",
    "    c = \"\"\"\n",
    "    COPY ( \n",
    "        SELECT \n",
    "          m.wdpa_gid - 1.0 as ogrfeature,\n",
    "          wdpa.wdpaid as wdpaid,\n",
    "          m.intersection_area as intersection_area,\n",
    "          m.species_area as species_area,\n",
    "          m.presence as presence,\n",
    "          m.origin as origin,\n",
    "          m.seasonal as seasonal,\n",
    "          m.code as code,\n",
    "          m.kingdom as kingdom,\n",
    "          m.phylum as phylum,\n",
    "          m.class as class,\n",
    "          m.order_ as order_,\n",
    "          m.family as family,\n",
    "          m.genus as genus,\n",
    "          m.binomial as binomial,\n",
    "          m.year as year\n",
    "        FROM wdpa_%s_intersections as m\n",
    "        INNER JOIN wdpa_june2018_shapefile_polygons AS wdpa ON wdpa.gid = m.wdpa_gid\n",
    "        WHERE m.code = 'LC'\n",
    "          OR m.code = 'NT'\n",
    "          OR m.code = 'VU'\n",
    "          OR m.code = 'EN'\n",
    "          OR m.code = 'CR'\n",
    "        ORDER BY m.wdpa_gid\n",
    ") TO STDOUT WITH CSV\n",
    "    ;\n",
    "    \"\"\"\n",
    "    c = c % tname\n",
    "    cmd = 'psql -d biodiversity -c \"%s\" >> /home/gabrielo/Code/wdpa-redlist/data/attribute_table/attr_table.csv' % c \n",
    "    !$cmd\n",
    "    "
   ]
  },
  {
   "cell_type": "code",
   "execution_count": 20,
   "metadata": {},
   "outputs": [],
   "source": [
    "tnames = []\n",
    "for f in glob.glob(\"../../data/redlist/*/*.shp\"):\n",
    "    name = os.path.basename(f).split(\".\")[0]\n",
    "    tnames.append(name.lower())\n",
    "tnames.append('botw')\n",
    "tnames.sort()"
   ]
  },
  {
   "cell_type": "code",
   "execution_count": 26,
   "metadata": {},
   "outputs": [],
   "source": [
    "copy_to_csv_with_headers(tnames[0])"
   ]
  },
  {
   "cell_type": "code",
   "execution_count": 29,
   "metadata": {},
   "outputs": [],
   "source": [
    "for tname in tnames[1:33]:\n",
    "    append_to_csv(tname)"
   ]
  },
  {
   "cell_type": "code",
   "execution_count": null,
   "metadata": {},
   "outputs": [],
   "source": []
  }
 ],
 "metadata": {
  "kernelspec": {
   "display_name": "Python 2",
   "language": "python",
   "name": "python2"
  },
  "language_info": {
   "codemirror_mode": {
    "name": "ipython",
    "version": 2
   },
   "file_extension": ".py",
   "mimetype": "text/x-python",
   "name": "python",
   "nbconvert_exporter": "python",
   "pygments_lexer": "ipython2",
   "version": "2.7.15"
  }
 },
 "nbformat": 4,
 "nbformat_minor": 2
}
