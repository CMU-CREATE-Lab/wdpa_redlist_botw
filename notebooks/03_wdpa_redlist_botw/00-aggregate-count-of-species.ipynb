{
 "cells": [
  {
   "cell_type": "code",
   "execution_count": null,
   "metadata": {},
   "outputs": [],
   "source": [
    "import affine, concurrent, cStringIO, glob, IPython, json, os, PIL, sys, thread, time, traceback\n"
   ]
  },
  {
   "cell_type": "code",
   "execution_count": null,
   "metadata": {},
   "outputs": [],
   "source": [
    "class SimpleProcessPoolExecutor(concurrent.futures.ProcessPoolExecutor):\n",
    "    def __init__(self, max_workers):\n",
    "        super(SimpleProcessPoolExecutor, self).__init__(max_workers=max_workers)\n",
    "        self.futures = []\n",
    "        \n",
    "    def submit(self, fn, *args, **kwargs):\n",
    "        future = super(SimpleProcessPoolExecutor, self).submit(fn, *args, **kwargs)\n",
    "        self.futures.append(future)\n",
    "        return future\n",
    "    \n",
    "    def get_futures(self):\n",
    "        return self.futures\n",
    "\n",
    "    def shutdown(self):\n",
    "        exception_count = 0\n",
    "        results = []\n",
    "        for completed in concurrent.futures.as_completed(self.futures):\n",
    "            try:\n",
    "                results.append(completed.result())\n",
    "            except Exception as e:\n",
    "                exception_count += 1\n",
    "                sys.stderr.write(\n",
    "                    'Exception caught in SimpleProcessPoolExecutor.shutdown.  Continuing until all are finished.\\n' +\n",
    "                    'Exception follows:\\n' +\n",
    "                    traceback.format_exc())\n",
    "        super(SimpleProcessPoolExecutor, self).shutdown()\n",
    "        if exception_count:\n",
    "            raise Exception('SimpleProcessPoolExecutor failed: %d of %d raised exception' % (exception_count, len(self.futures)))\n",
    "        print 'SimpleProcessPoolExecutor succeeded: all %d jobs completed' % (len(self.futures))\n",
    "        return results\n",
    "\n",
    "class Stopwatch:\n",
    "    def __init__(self, name):\n",
    "        self.name = name\n",
    "    def __enter__(self):\n",
    "        self.start = time.time()\n",
    "    def __exit__(self, type, value, traceback):\n",
    "        sys.stdout.write('%s took %.1f seconds\\n' % (self.name, time.time() - self.start))\n"
   ]
  },
  {
   "cell_type": "code",
   "execution_count": null,
   "metadata": {},
   "outputs": [],
   "source": [
    "def create_index(tname):\n",
    "    c = \"CREATE INDEX IF NOT EXISTS wdpa_%s_intersections_idx ON wdpa_%s_intersections (wdpa_gid, code);\" % (tname, tname)\n",
    "    cmd = 'psql -d biodiversity -c \"%s\"' % c \n",
    "    !$cmd    \n",
    "\n",
    "def create_counts_index():\n",
    "    c = \"CREATE INDEX IF NOT EXISTS wdpa_raw_counts_idx ON wdpa_raw_counts (wdpa_gid);\" \n",
    "    cmd = 'psql -d biodiversity -c \"%s\"' % c \n",
    "    !$cmd    \n",
    "    \n",
    "def vacuum_table(tname):\n",
    "    c = \"VACUUM ANALYZE wdpa_%s_intersections;\" % tname\n",
    "    cmd = 'psql -d biodiversity -c \"%s\"' % c \n",
    "    !$cmd   \n",
    "\n",
    "def vacuum_counts_table():\n",
    "    c = \"VACUUM ANALYZE wdpa_raw_counts;\" \n",
    "    cmd = 'psql -d biodiversity -c \"%s\"' % c \n",
    "    !$cmd   \n",
    "    \n",
    "\n",
    "def select_into(tname):\n",
    "    c = \"\"\"\n",
    "    SELECT \n",
    "      wdpa_gid, \n",
    "       sum(case when (\n",
    "         code = 'CR' or \n",
    "         code = 'EN' or \n",
    "         code = 'VU' or \n",
    "         code = 'NT' or\n",
    "         code = 'LC' \n",
    "       ) then 1 else 0 end) as all_count,      \n",
    "       sum(case when code = 'CR' then 1 else 0 end) as cr_count,\n",
    "       sum(case when code = 'CR' then intersection_area/species_area else 0 end) as cr_areas,\n",
    "       sum(case when code = 'EN' then 1 else 0 end) as en_count,\n",
    "       sum(case when code = 'EN' then intersection_area/species_area else 0 end) as en_areas,\n",
    "       sum(case when code = 'VU' then 1 else 0 end) as vu_count,\n",
    "       sum(case when code = 'VU' then intersection_area/species_area else 0 end) as vu_areas,   \n",
    "       sum(case when code = 'NT' then 1 else 0 end) as nt_count,\n",
    "       sum(case when code = 'NT' then intersection_area/species_area else 0 end) as nt_areas,   \n",
    "       sum(case when code = 'LC' then 1 else 0 end) as lc_count,\n",
    "       sum(case when code = 'LC' then intersection_area/species_area else 0 end) as lc_areas   \n",
    "    INTO wdpa_raw_counts\n",
    "    FROM wdpa_%s_intersections\n",
    "    GROUP BY wdpa_gid \n",
    "    ORDER BY wdpa_gid\n",
    "    \"\"\"\n",
    "    c = c % (tname)\n",
    "    cmd = 'psql -d biodiversity -c \"%s\"' % c \n",
    "    !$cmd\n",
    "\n",
    "def insert_into(tname):\n",
    "    c = \"\"\"\n",
    "    INSERT INTO wdpa_raw_counts\n",
    "    SELECT \n",
    "      wdpa_gid, \n",
    "       sum(case when (\n",
    "         code = 'CR' or \n",
    "         code = 'EN' or \n",
    "         code = 'VU' or \n",
    "         code = 'NT' or\n",
    "         code = 'LC' \n",
    "       ) then 1 else 0 end) as all_count,      \n",
    "       sum(case when code = 'CR' then 1 else 0 end) as cr_count,\n",
    "       sum(case when code = 'CR' then intersection_area/species_area else 0 end) as cr_areas,\n",
    "       sum(case when code = 'EN' then 1 else 0 end) as en_count,\n",
    "       sum(case when code = 'EN' then intersection_area/species_area else 0 end) as en_areas,\n",
    "       sum(case when code = 'VU' then 1 else 0 end) as vu_count,\n",
    "       sum(case when code = 'VU' then intersection_area/species_area else 0 end) as vu_areas,   \n",
    "       sum(case when code = 'NT' then 1 else 0 end) as nt_count,\n",
    "       sum(case when code = 'NT' then intersection_area/species_area else 0 end) as nt_areas,   \n",
    "       sum(case when code = 'LC' then 1 else 0 end) as lc_count,\n",
    "       sum(case when code = 'LC' then intersection_area/species_area else 0 end) as lc_areas   \n",
    "    FROM wdpa_%s_intersections\n",
    "    GROUP BY wdpa_gid \n",
    "    ORDER BY wdpa_gid\n",
    "    \"\"\"\n",
    "    c = c % (tname)\n",
    "    cmd = 'psql -d biodiversity -c \"%s\"' % c \n",
    "    !$cmd\n",
    "    \n",
    "    \n",
    "def select_counts(tname, code):\n",
    "    c = \"\"\"\n",
    "    SELECT \n",
    "      wdpa_gid, \n",
    "      count(*) as %s_count,\n",
    "      sum(intersection_area/species_area)\n",
    "    FROM wdpa_%s_intersections\n",
    "    WHERE code = '%s'\n",
    "    GROUP BY wdpa_gid \n",
    "    ORDER BY wdpa_gid\n",
    "    \n",
    "    LIMIT 10\n",
    "    ;\n",
    "    \"\"\"\n",
    "    c = c % (code, tname, code)\n",
    "    cmd = 'psql -d biodiversity -c \"%s\"' % c \n",
    "    !$cmd       \n",
    "\n",
    "    \n",
    "def select_counts2(tname):\n",
    "    c = \"\"\"\n",
    "    EXPLAIN ANALYZE\n",
    "    SELECT \n",
    "      wdpa_gid, \n",
    "       sum(case when (\n",
    "         code = 'CR' or \n",
    "         code = 'EN' or \n",
    "         code = 'VU' or \n",
    "         code = 'NT' or\n",
    "         code = 'LC' \n",
    "       ) then 1 else 0 end) as all_count,      \n",
    "       sum(case when code = 'CR' then 1 else 0 end) as cr_count,\n",
    "       sum(case when code = 'CR' then intersection_area/species_area else 0 end) as cr_areas,\n",
    "       sum(case when code = 'EN' then 1 else 0 end) as en_count,\n",
    "       sum(case when code = 'EN' then intersection_area/species_area else 0 end) as en_areas,\n",
    "       sum(case when code = 'VU' then 1 else 0 end) as vu_count,\n",
    "       sum(case when code = 'VU' then intersection_area/species_area else 0 end) as vu_areas,   \n",
    "       sum(case when code = 'NT' then 1 else 0 end) as nt_count,\n",
    "       sum(case when code = 'NT' then intersection_area/species_area else 0 end) as nt_areas,   \n",
    "       sum(case when code = 'LC' then 1 else 0 end) as lc_count,\n",
    "       sum(case when code = 'LC' then intersection_area/species_area else 0 end) as lc_areas   \n",
    "    FROM wdpa_%s_intersections\n",
    "    GROUP BY wdpa_gid \n",
    "    ORDER BY wdpa_gid\n",
    "    ;\n",
    "    \"\"\"\n",
    "    c = c % (tname)\n",
    "    cmd = 'psql -d biodiversity -c \"%s\"' % c \n",
    "    !$cmd       \n",
    "\n",
    "    "
   ]
  },
  {
   "cell_type": "code",
   "execution_count": null,
   "metadata": {},
   "outputs": [],
   "source": [
    "select_counts('mammals', 'CR')"
   ]
  },
  {
   "cell_type": "code",
   "execution_count": null,
   "metadata": {},
   "outputs": [],
   "source": [
    "select_counts('mammals', 'VU')"
   ]
  },
  {
   "cell_type": "code",
   "execution_count": null,
   "metadata": {},
   "outputs": [],
   "source": [
    "select_counts('mammals', 'EN')"
   ]
  },
  {
   "cell_type": "code",
   "execution_count": null,
   "metadata": {},
   "outputs": [],
   "source": [
    "select_counts('mammals', 'NT')"
   ]
  },
  {
   "cell_type": "code",
   "execution_count": null,
   "metadata": {},
   "outputs": [],
   "source": [
    "select_counts('mammals', 'LC')"
   ]
  },
  {
   "cell_type": "code",
   "execution_count": null,
   "metadata": {},
   "outputs": [],
   "source": [
    "select_counts2('mammals')"
   ]
  },
  {
   "cell_type": "code",
   "execution_count": null,
   "metadata": {},
   "outputs": [],
   "source": [
    "create_index('mammals')"
   ]
  },
  {
   "cell_type": "code",
   "execution_count": null,
   "metadata": {},
   "outputs": [],
   "source": [
    "vacuum_table('mammals')"
   ]
  },
  {
   "cell_type": "code",
   "execution_count": null,
   "metadata": {},
   "outputs": [],
   "source": [
    "select_counts2('mammals')"
   ]
  },
  {
   "cell_type": "code",
   "execution_count": null,
   "metadata": {},
   "outputs": [],
   "source": [
    "tnames = []\n",
    "for f in glob.glob(\"../../data/redlist/*/*.shp\"):\n",
    "    name = os.path.basename(f).split(\".\")[0]\n",
    "    tnames.append(name.lower())\n",
    "tnames.append('botw')\n",
    "tnames.sort()"
   ]
  },
  {
   "cell_type": "code",
   "execution_count": null,
   "metadata": {},
   "outputs": [],
   "source": [
    "exe = SimpleProcessPoolExecutor(max_workers=8)\n",
    "for tname in tnames:\n",
    "    exe.submit(create_index, tname)\n",
    "exe.shutdown()\n",
    "None"
   ]
  },
  {
   "cell_type": "code",
   "execution_count": null,
   "metadata": {},
   "outputs": [],
   "source": [
    "exe = SimpleProcessPoolExecutor(max_workers=8)\n",
    "for tname in tnames:\n",
    "    exe.submit(vacuum_table, tname)\n",
    "exe.shutdown()\n",
    "None"
   ]
  },
  {
   "cell_type": "code",
   "execution_count": null,
   "metadata": {},
   "outputs": [],
   "source": [
    "select_into('amphibians')"
   ]
  },
  {
   "cell_type": "code",
   "execution_count": null,
   "metadata": {},
   "outputs": [],
   "source": [
    "len(tnames)"
   ]
  },
  {
   "cell_type": "code",
   "execution_count": null,
   "metadata": {},
   "outputs": [],
   "source": [
    "tnames[32]"
   ]
  },
  {
   "cell_type": "code",
   "execution_count": null,
   "metadata": {},
   "outputs": [],
   "source": [
    "exe = SimpleProcessPoolExecutor(max_workers=8)\n",
    "for tname in tnames[1:33]:\n",
    "    exe.submit(insert_into, tname)\n",
    "exe.shutdown()\n",
    "None"
   ]
  },
  {
   "cell_type": "code",
   "execution_count": null,
   "metadata": {},
   "outputs": [],
   "source": [
    "create_counts_index()"
   ]
  },
  {
   "cell_type": "code",
   "execution_count": null,
   "metadata": {},
   "outputs": [],
   "source": [
    "vacuum_counts_table()"
   ]
  },
  {
   "cell_type": "code",
   "execution_count": null,
   "metadata": {},
   "outputs": [],
   "source": []
  }
 ],
 "metadata": {
  "kernelspec": {
   "display_name": "Python 2",
   "language": "python",
   "name": "python2"
  },
  "language_info": {
   "codemirror_mode": {
    "name": "ipython",
    "version": 2
   },
   "file_extension": ".py",
   "mimetype": "text/x-python",
   "name": "python",
   "nbconvert_exporter": "python",
   "pygments_lexer": "ipython2",
   "version": "2.7.15"
  }
 },
 "nbformat": 4,
 "nbformat_minor": 2
}
