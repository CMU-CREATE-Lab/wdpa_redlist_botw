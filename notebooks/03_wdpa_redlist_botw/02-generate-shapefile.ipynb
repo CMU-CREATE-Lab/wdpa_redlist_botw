{
 "cells": [
  {
   "cell_type": "code",
   "execution_count": null,
   "metadata": {},
   "outputs": [],
   "source": [
    "def select_into():\n",
    "    c = \"\"\"\n",
    "    SELECT \n",
    "      wdpa.gid,\n",
    "      wdpa.wdpaid, \n",
    "      wdpa.name, \n",
    "      wdpa.desig_eng, \n",
    "      wdpa.iucn_cat,\n",
    "      wdpa.marine,\n",
    "      counts.all_count as all,\n",
    "      counts.cr_count as cr,\n",
    "      counts.en_count as en,\n",
    "      counts.vu_count as vu,\n",
    "      counts.nt_count as nt,\n",
    "      counts.lc_count as lc,      \n",
    "      (counts.vu_count + counts.en_count + counts.cr_count) * (counts.vu_areas + counts.en_areas + counts.cr_areas) as colour_scale,\n",
    "      wdpa.geom\n",
    "    INTO wdpa_redlist\n",
    "    FROM wdpa_june2018_shapefile_polygons AS wdpa\n",
    "    INNER JOIN wdpa_species_counts AS counts ON counts.wdpa_gid = wdpa.gid\n",
    "    ORDER BY wdpa.gid\n",
    "    \"\"\"\n",
    "    cmd = 'psql -d biodiversity -c \"%s\"' % c \n",
    "    !$cmd\n",
    "\n",
    "def pgsql2shp():\n",
    "    cmd = 'pgsql2shp -f /home/gabrielo/Code/wdpa-redlist/data/wdpa_redlist biodiversity wdpa_redlist' \n",
    "    !$cmd    \n"
   ]
  },
  {
   "cell_type": "code",
   "execution_count": null,
   "metadata": {},
   "outputs": [],
   "source": [
    "select_into()"
   ]
  },
  {
   "cell_type": "code",
   "execution_count": null,
   "metadata": {},
   "outputs": [],
   "source": [
    "pgsql2shp()"
   ]
  },
  {
   "cell_type": "code",
   "execution_count": null,
   "metadata": {},
   "outputs": [],
   "source": []
  }
 ],
 "metadata": {
  "kernelspec": {
   "display_name": "Python 2",
   "language": "python",
   "name": "python2"
  },
  "language_info": {
   "codemirror_mode": {
    "name": "ipython",
    "version": 2
   },
   "file_extension": ".py",
   "mimetype": "text/x-python",
   "name": "python",
   "nbconvert_exporter": "python",
   "pygments_lexer": "ipython2",
   "version": "2.7.15"
  }
 },
 "nbformat": 4,
 "nbformat_minor": 2
}
