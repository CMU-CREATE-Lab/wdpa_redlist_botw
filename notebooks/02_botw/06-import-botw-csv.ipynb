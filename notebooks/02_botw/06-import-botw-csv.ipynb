{
 "cells": [
  {
   "cell_type": "code",
   "execution_count": null,
   "metadata": {},
   "outputs": [],
   "source": [
    "import csv"
   ]
  },
  {
   "cell_type": "code",
   "execution_count": null,
   "metadata": {},
   "outputs": [],
   "source": [
    "data = []\n",
    "with open(\"../../data/raw/botw/BOTW.csv\") as f:\n",
    "    reader = csv.DictReader(f)\n",
    "    for row in reader:\n",
    "        data.append(row)"
   ]
  },
  {
   "cell_type": "code",
   "execution_count": null,
   "metadata": {},
   "outputs": [],
   "source": [
    "len(data)"
   ]
  },
  {
   "cell_type": "code",
   "execution_count": null,
   "metadata": {},
   "outputs": [],
   "source": [
    "reader.fieldnames\n",
    "SISRecID,Order_,FamilyName,Family,CommonName,ScientificName,Authority,F2017_IUCN_Red_List_Category,Synonyms,AlternativeCommonNa\n",
    "mes,TaxonomicNotes,TaxonomicSource,SpcRecID"
   ]
  },
  {
   "cell_type": "code",
   "execution_count": null,
   "metadata": {},
   "outputs": [],
   "source": [
    "data[0]"
   ]
  },
  {
   "cell_type": "code",
   "execution_count": null,
   "metadata": {},
   "outputs": [],
   "source": [
    "for key in reader.fieldnames:\n",
    "    print key + \" varchar,\""
   ]
  },
  {
   "cell_type": "code",
   "execution_count": null,
   "metadata": {},
   "outputs": [],
   "source": [
    "def create_table():\n",
    "    c = \"\"\"\n",
    "    CREATE TABLE botw_csv (\n",
    "        SISRecID integer,\n",
    "        Order_ varchar,\n",
    "        FamilyName varchar,\n",
    "        Family varchar,\n",
    "        CommonName varchar,\n",
    "        ScientificName varchar,\n",
    "        Authority varchar,\n",
    "        F2017_IUCN_Red_List_Category varchar,\n",
    "        Synonyms varchar,\n",
    "        AlternativeCommonNames varchar,\n",
    "        TaxonomicNotes varchar,\n",
    "        TaxonomicSource varchar,\n",
    "        SpcRecID integer)\n",
    "    ;\n",
    "    \"\"\"\n",
    "    cmd = 'psql -d biodiversity -c \"%s\"' % c \n",
    "    !$cmd          \n",
    "    \n",
    "def copy_table():\n",
    "    c = \"COPY botw_csv FROM '/home/gabrielo/Code/wdpa-redlist/data/raw/botw/BOTW.csv' DELIMITER ',' QUOTE '\\\\\\\"' HEADER CSV\"\n",
    "    cmd = 'psql -d biodiversity -c \"%s\"' % c \n",
    "    !$cmd          \n"
   ]
  },
  {
   "cell_type": "code",
   "execution_count": null,
   "metadata": {},
   "outputs": [],
   "source": [
    "create_table()"
   ]
  },
  {
   "cell_type": "code",
   "execution_count": null,
   "metadata": {},
   "outputs": [],
   "source": [
    "copy_table()"
   ]
  },
  {
   "cell_type": "code",
   "execution_count": null,
   "metadata": {},
   "outputs": [],
   "source": [
    "data[57]"
   ]
  },
  {
   "cell_type": "code",
   "execution_count": null,
   "metadata": {},
   "outputs": [],
   "source": [
    "import csv\n",
    "import psycopg2\n",
    "\n",
    "conn = psycopg2.connect(\"dbname=biodiversity host=/var/run/postgresql/\")\n",
    "cur = conn.cursor()\n",
    "\n",
    "with open('../../data/raw/botw/BOTW.csv', 'r') as f:\n",
    "    reader = csv.reader(f)\n",
    "    next(reader)  # Skip the header row.\n",
    "    for row in reader:\n",
    "        if row[12] == '':\n",
    "            row[12] = 0\n",
    "        cur.execute(\n",
    "            \"INSERT INTO botw_csv VALUES (%s, %s, %s, %s, %s, %s, %s, %s, %s, %s, %s, %s, %s)\",\n",
    "            row\n",
    "        )\n",
    "conn.commit()"
   ]
  },
  {
   "cell_type": "code",
   "execution_count": null,
   "metadata": {},
   "outputs": [],
   "source": [
    "len(row)"
   ]
  },
  {
   "cell_type": "code",
   "execution_count": null,
   "metadata": {},
   "outputs": [],
   "source": []
  }
 ],
 "metadata": {
  "kernelspec": {
   "display_name": "Python 2",
   "language": "python",
   "name": "python2"
  },
  "language_info": {
   "codemirror_mode": {
    "name": "ipython",
    "version": 2
   },
   "file_extension": ".py",
   "mimetype": "text/x-python",
   "name": "python",
   "nbconvert_exporter": "python",
   "pygments_lexer": "ipython2",
   "version": "2.7.15"
  }
 },
 "nbformat": 4,
 "nbformat_minor": 2
}
