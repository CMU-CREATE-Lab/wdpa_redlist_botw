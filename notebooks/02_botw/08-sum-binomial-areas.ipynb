{
 "cells": [
  {
   "cell_type": "code",
   "execution_count": 7,
   "metadata": {},
   "outputs": [],
   "source": [
    "def select_into(tname):\n",
    "    c = \"\"\"\n",
    "    SELECT \n",
    "      m.sciname as binomial,\n",
    "      sum(sum) as area    \n",
    "    INTO TABLE %s_binomial_areas\n",
    "    FROM %s_areas\n",
    "    INNER JOIN %s as m\n",
    "    ON %s_gid = m.objectid\n",
    "    WHERE m.presence <= 3 AND (m.code = 'CR' OR m.code = 'EN' OR m.code = 'VU' OR m.code = 'NT' OR m.code = 'LC')\n",
    "    GROUP BY m.sciname\n",
    "    ;\n",
    "    \"\"\"\n",
    "    c = c % (tname, tname, tname, tname)\n",
    "    cmd = 'psql -d biodiversity -c \"%s\"' % c \n",
    "    !$cmd            \n",
    "\n",
    "def drop_table(tname):\n",
    "    c = \"\"\"\n",
    "    DROP TABLE %s_binomial_areas\n",
    "    ;\n",
    "    \"\"\"\n",
    "    c = c % (tname)\n",
    "    cmd = 'psql -d biodiversity -c \"%s\"' % c \n",
    "    !$cmd            \n",
    "\n",
    "def create_index(tname):\n",
    "    c = \"CREATE UNIQUE INDEX IF NOT EXISTS %s_binomial_idx ON %s_binomial_areas (binomial);\" % (tname, tname)\n",
    "    cmd = 'psql -d biodiversity -c \"%s\"' % c \n",
    "    !$cmd    \n",
    "\n",
    "def vacuum_table(tname):\n",
    "    c = \"VACUUM ANALYZE %s_binomial_areas;\" % tname\n",
    "    cmd = 'psql -d biodiversity -c \"%s\"' % c \n",
    "    !$cmd   \n"
   ]
  },
  {
   "cell_type": "code",
   "execution_count": 8,
   "metadata": {},
   "outputs": [
    {
     "name": "stdout",
     "output_type": "stream",
     "text": [
      "SELECT 10880\n",
      "CREATE INDEX\n",
      "VACUUM\n"
     ]
    }
   ],
   "source": [
    "select_into('botw')\n",
    "create_index('botw')\n",
    "vacuum_table('botw')"
   ]
  },
  {
   "cell_type": "code",
   "execution_count": null,
   "metadata": {},
   "outputs": [],
   "source": []
  }
 ],
 "metadata": {
  "kernelspec": {
   "display_name": "Python 2",
   "language": "python",
   "name": "python2"
  },
  "language_info": {
   "codemirror_mode": {
    "name": "ipython",
    "version": 2
   },
   "file_extension": ".py",
   "mimetype": "text/x-python",
   "name": "python",
   "nbconvert_exporter": "python",
   "pygments_lexer": "ipython2",
   "version": "2.7.15"
  }
 },
 "nbformat": 4,
 "nbformat_minor": 2
}
