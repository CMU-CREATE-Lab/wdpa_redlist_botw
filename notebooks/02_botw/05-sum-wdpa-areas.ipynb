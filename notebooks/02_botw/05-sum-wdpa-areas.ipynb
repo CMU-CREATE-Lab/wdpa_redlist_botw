{
 "cells": [
  {
   "cell_type": "code",
   "execution_count": null,
   "metadata": {},
   "outputs": [],
   "source": [
    "import affine, concurrent, cStringIO, glob, IPython, json, os, PIL, sys, thread, time, traceback\n"
   ]
  },
  {
   "cell_type": "code",
   "execution_count": null,
   "metadata": {},
   "outputs": [],
   "source": [
    "def select_into(tname):\n",
    "    c = \"\"\"\n",
    "    SELECT \n",
    "      %s_gid, \n",
    "      sum(st_area(geom::geography))      \n",
    "    INTO TABLE %s_areas\n",
    "    FROM %s_subdivided\n",
    "    GROUP BY %s_gid \n",
    "    ORDER BY %s_gid\n",
    "    ;\n",
    "    \"\"\"\n",
    "    c = c % (tname, tname, tname, tname, tname)\n",
    "    cmd = 'psql -d biodiversity -c \"%s\"' % c \n",
    "    !$cmd          "
   ]
  },
  {
   "cell_type": "code",
   "execution_count": null,
   "metadata": {},
   "outputs": [],
   "source": [
    "select_into(\"botw\")"
   ]
  },
  {
   "cell_type": "code",
   "execution_count": null,
   "metadata": {},
   "outputs": [],
   "source": []
  }
 ],
 "metadata": {
  "kernelspec": {
   "display_name": "Python 2",
   "language": "python",
   "name": "python2"
  },
  "language_info": {
   "codemirror_mode": {
    "name": "ipython",
    "version": 2
   },
   "file_extension": ".py",
   "mimetype": "text/x-python",
   "name": "python",
   "nbconvert_exporter": "python",
   "pygments_lexer": "ipython2",
   "version": "2.7.15"
  }
 },
 "nbformat": 4,
 "nbformat_minor": 2
}
