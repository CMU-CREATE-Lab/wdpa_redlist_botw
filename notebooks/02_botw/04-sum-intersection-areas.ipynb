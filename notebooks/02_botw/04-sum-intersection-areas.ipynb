{
 "cells": [
  {
   "cell_type": "code",
   "execution_count": null,
   "metadata": {},
   "outputs": [],
   "source": [
    "import affine, concurrent, cStringIO, glob, IPython, json, os, PIL, sys, thread, time, traceback\n"
   ]
  },
  {
   "cell_type": "code",
   "execution_count": null,
   "metadata": {},
   "outputs": [],
   "source": [
    "def select_into(tname):\n",
    "    c = \"\"\"\n",
    "    SELECT \n",
    "      wdpa_gid, \n",
    "      %s_gid,  \n",
    "      SUM(intersection_area) as intersection_area\n",
    "    INTO TABLE wdpa_%s_intersection_areas\n",
    "    FROM wdpa_%s_subdivided \n",
    "    GROUP BY wdpa_gid, %s_gid\n",
    "    \"\"\"\n",
    "    c = c % (tname, tname, tname, tname)\n",
    "    cmd = 'psql -d biodiversity -c \"%s\"' % c \n",
    "    !$cmd\n",
    "\n",
    "def get_counts(tname):\n",
    "    print tname\n",
    "    c = \"\"\"\n",
    "    SELECT \n",
    "      COUNT(*)\n",
    "    FROM wdpa_%s_intersection_areas;\n",
    "    \"\"\"\n",
    "    c = c % (tname)\n",
    "    cmd = 'psql -d biodiversity -c \"%s\"' % c \n",
    "    !$cmd\n",
    "\n",
    "def create_index(tname):\n",
    "    c = \"CREATE UNIQUE INDEX IF NOT EXISTS %s_idx ON wdpa_%s_intersection_areas (wdpa_gid, %s_gid);\" % (tname, tname, tname)\n",
    "    cmd = 'psql -d biodiversity -c \"%s\"' % c \n",
    "    !$cmd    \n",
    "\n",
    "def vacuum_table(tname):\n",
    "    c = \"VACUUM ANALYZE wdpa_%s_intersection_areas;\" % tname\n",
    "    cmd = 'psql -d biodiversity -c \"%s\"' % c \n",
    "    !$cmd   "
   ]
  },
  {
   "cell_type": "code",
   "execution_count": null,
   "metadata": {},
   "outputs": [],
   "source": [
    "select_into(\"botw\")"
   ]
  },
  {
   "cell_type": "code",
   "execution_count": null,
   "metadata": {},
   "outputs": [],
   "source": [
    "get_counts(\"botw\")"
   ]
  },
  {
   "cell_type": "code",
   "execution_count": null,
   "metadata": {},
   "outputs": [],
   "source": [
    "create_index(\"botw\")"
   ]
  },
  {
   "cell_type": "code",
   "execution_count": null,
   "metadata": {},
   "outputs": [],
   "source": [
    "vacuum_table(\"botw\")"
   ]
  },
  {
   "cell_type": "code",
   "execution_count": null,
   "metadata": {},
   "outputs": [],
   "source": []
  }
 ],
 "metadata": {
  "kernelspec": {
   "display_name": "Python 2",
   "language": "python",
   "name": "python2"
  },
  "language_info": {
   "codemirror_mode": {
    "name": "ipython",
    "version": 2
   },
   "file_extension": ".py",
   "mimetype": "text/x-python",
   "name": "python",
   "nbconvert_exporter": "python",
   "pygments_lexer": "ipython2",
   "version": "2.7.15"
  }
 },
 "nbformat": 4,
 "nbformat_minor": 2
}
