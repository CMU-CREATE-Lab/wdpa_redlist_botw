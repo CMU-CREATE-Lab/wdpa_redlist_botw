{
 "cells": [
  {
   "cell_type": "code",
   "execution_count": 1,
   "metadata": {},
   "outputs": [],
   "source": [
    "def select_into(tname):\n",
    "    c = \"\"\"\n",
    "    SELECT \n",
    "        wdpa_gid, \n",
    "        sum(intersection_area), \n",
    "        code, \n",
    "        kingdom, \n",
    "        phylum, \n",
    "        class, \n",
    "        order_, \n",
    "        family, \n",
    "        genus, \n",
    "        binomial, \n",
    "        year    \n",
    "    INTO TABLE wdpa_%s_binomial_intersections        \n",
    "    FROM wdpa_%s_intersections\n",
    "    WHERE presence <= 3 AND (code = 'CR' OR code = 'VU' or code = 'EN' or CODE = 'NT' or code = 'LC')\n",
    "    GROUP BY wdpa_gid, binomial, code, kingdom, phylum, class, order_, family, genus, year\n",
    "    ORDER BY wdpa_gid, binomial\n",
    "    \"\"\"\n",
    "    c = c % (tname, tname)\n",
    "    cmd = 'psql -d biodiversity -c \"%s\"' % c \n",
    "    !$cmd\n",
    "\n",
    "def add_column(tname):\n",
    "    c = \"\"\"\n",
    "    ALTER TABLE wdpa_%s_binomial_intersections \n",
    "    ADD COLUMN binomial_area double precision\n",
    "    ;\n",
    "    \"\"\"\n",
    "    c = c % (tname)\n",
    "    cmd = 'psql -d biodiversity -c \"%s\"' % c \n",
    "    !$cmd            \n",
    "\n",
    "def update_table(tname):\n",
    "    c = \"\"\"\n",
    "    UPDATE wdpa_%s_binomial_intersections\n",
    "    SET binomial_area = m.area\n",
    "    FROM %s_binomial_areas as m\n",
    "    where \n",
    "    wdpa_%s_binomial_intersections.binomial = m.binomial\n",
    "    ;\n",
    "    \"\"\"\n",
    "    c = c % (tname, tname, tname)\n",
    "    cmd = 'psql -d biodiversity -c \"%s\"' % c \n",
    "    !$cmd            \n",
    "\n",
    "def create_index(tname):\n",
    "    c = \"CREATE INDEX IF NOT EXISTS %s_wdpa_gid_code_idx ON wdpa_%s_binomial_intersections (wdpa_gid, code);\" % (tname, tname)\n",
    "    cmd = 'psql -d biodiversity -c \"%s\"' % c \n",
    "    !$cmd    \n",
    "\n",
    "def vacuum_table(tname):\n",
    "    c = \"VACUUM ANALYZE wdpa_%s_binomial_intersections;\" % tname\n",
    "    cmd = 'psql -d biodiversity -c \"%s\"' % c \n",
    "    !$cmd   \n",
    "    "
   ]
  },
  {
   "cell_type": "code",
   "execution_count": 2,
   "metadata": {},
   "outputs": [
    {
     "name": "stdout",
     "output_type": "stream",
     "text": [
      "SELECT 39211275\r\n"
     ]
    }
   ],
   "source": [
    "select_into('botw')"
   ]
  },
  {
   "cell_type": "code",
   "execution_count": 3,
   "metadata": {},
   "outputs": [
    {
     "name": "stdout",
     "output_type": "stream",
     "text": [
      "ALTER TABLE\r\n"
     ]
    }
   ],
   "source": [
    "add_column('botw')"
   ]
  },
  {
   "cell_type": "code",
   "execution_count": null,
   "metadata": {},
   "outputs": [],
   "source": [
    "update_table('botw')"
   ]
  },
  {
   "cell_type": "code",
   "execution_count": 6,
   "metadata": {},
   "outputs": [
    {
     "name": "stdout",
     "output_type": "stream",
     "text": [
      "CREATE INDEX\n",
      "VACUUM\n"
     ]
    }
   ],
   "source": [
    "create_index('botw')\n",
    "vacuum_table('botw')"
   ]
  },
  {
   "cell_type": "code",
   "execution_count": 7,
   "metadata": {},
   "outputs": [
    {
     "name": "stdout",
     "output_type": "stream",
     "text": [
      "foo\n"
     ]
    }
   ],
   "source": [
    "print \"foo\""
   ]
  },
  {
   "cell_type": "code",
   "execution_count": null,
   "metadata": {},
   "outputs": [],
   "source": []
  }
 ],
 "metadata": {
  "kernelspec": {
   "display_name": "Python 2",
   "language": "python",
   "name": "python2"
  },
  "language_info": {
   "codemirror_mode": {
    "name": "ipython",
    "version": 2
   },
   "file_extension": ".py",
   "mimetype": "text/x-python",
   "name": "python",
   "nbconvert_exporter": "python",
   "pygments_lexer": "ipython2",
   "version": "2.7.15"
  }
 },
 "nbformat": 4,
 "nbformat_minor": 2
}
