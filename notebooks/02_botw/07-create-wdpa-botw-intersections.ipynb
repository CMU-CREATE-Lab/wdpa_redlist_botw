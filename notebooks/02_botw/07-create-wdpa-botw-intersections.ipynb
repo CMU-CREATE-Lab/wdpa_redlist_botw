{
 "cells": [
  {
   "cell_type": "code",
   "execution_count": null,
   "metadata": {},
   "outputs": [],
   "source": [
    "def alter_table():\n",
    "    c = \"\"\"\n",
    "    ALTER TABLE botw\n",
    "    ADD COLUMN code character varying(254), \n",
    "    ADD COLUMN kingdom character varying(254), \n",
    "    ADD COLUMN phylum character varying(254), \n",
    "    ADD COLUMN class character varying(254), \n",
    "    ADD COLUMN order_ character varying(254), \n",
    "    ADD COLUMN family character varying(254)\n",
    "    ;    \n",
    "    \"\"\"\n",
    "    cmd = 'psql -d biodiversity -c \"%s\"' % c \n",
    "    !$cmd          \n",
    "\n",
    "def update_table():\n",
    "    c = \"\"\"\n",
    "    update botw\n",
    "    set \n",
    "    code = botw_csv.f2017_iucn_red_list_category, \n",
    "    kingdom = 'ANIMALIA', \n",
    "    phylum = 'CHORDATA', \n",
    "    class = 'AVES', \n",
    "    order_ = botw_csv.order_, \n",
    "    family = UPPER(botw_csv.familyname)\n",
    "    from botw_csv WHERE botw.sisid = botw_csv.sisrecid;\n",
    "    ;    \n",
    "    \"\"\"\n",
    "    cmd = 'psql -d biodiversity -c \"%s\"' % c \n",
    "    !$cmd          \n",
    "\n",
    "def create_table():\n",
    "    c = \"\"\"\n",
    "    CREATE TABLE wdpa_botw_intersections (\n",
    "     wdpa_gid integer,  \n",
    "     botw_gid integer, \n",
    "     intersection_area double precision, \n",
    "     presence integer, \n",
    "     origin integer, \n",
    "     seasonal integer, \n",
    "     code character varying(254), \n",
    "     kingdom character varying(254), \n",
    "     phylum character varying(254), \n",
    "     class character varying(254), \n",
    "     order_ character varying(254), \n",
    "     family character varying(254), \n",
    "     genus character varying(254), \n",
    "     binomial character varying(254), \n",
    "     year integer, \n",
    "     species_area double precision   \n",
    "    );\n",
    "    \"\"\"\n",
    "    cmd = 'psql -d biodiversity -c \"%s\"' % c \n",
    "    !$cmd          \n",
    "    \n",
    "def insert_into():\n",
    "    c = \"\"\"\n",
    "    INSERT INTO \n",
    "        wdpa_botw_intersections (\n",
    "            wdpa_gid, \n",
    "            botw_gid, \n",
    "            intersection_area, \n",
    "            presence, \n",
    "            origin, \n",
    "            seasonal, \n",
    "            code,\n",
    "            kingdom,\n",
    "            phylum,\n",
    "            class,\n",
    "            order_,\n",
    "            family,\n",
    "            genus,\n",
    "            binomial,\n",
    "            year)\n",
    "    SELECT \n",
    "      ia.wdpa_gid, \n",
    "      ia.botw_gid, \n",
    "      ia.intersection_area,\n",
    "      botw.presence,\n",
    "      botw.origin,\n",
    "      botw.seasonal,\n",
    "      botw.code,\n",
    "      botw.kingdom,\n",
    "      botw.phylum,\n",
    "      botw.class,\n",
    "      botw.order_,\n",
    "      botw.family,\n",
    "      split_part(botw.sciname, ' ', 1),\n",
    "      botw.sciname,      \n",
    "      CAST(botw.date_ as integer)\n",
    "    FROM wdpa_botw_intersection_areas as ia \n",
    "    INNER JOIN botw as botw\n",
    "    ON ia.botw_gid = botw.objectid    \n",
    "    ORDER BY ia.wdpa_gid, ia.botw_gid\n",
    "    \"\"\"\n",
    "    cmd = 'psql -d biodiversity -c \"%s\"' % c \n",
    "    !$cmd        \n",
    "\n",
    "def add_species_areas():\n",
    "    c = \"\"\"\n",
    "    UPDATE wdpa_botw_intersections\n",
    "    SET species_area = m.sum\n",
    "    FROM botw_areas as m\n",
    "    where \n",
    "    wdpa_botw_intersections.botw_gid = m.botw_gid\n",
    "    ;\n",
    "    \"\"\"\n",
    "    cmd = 'psql -d biodiversity -c \"%s\"' % c \n",
    "    !$cmd                "
   ]
  },
  {
   "cell_type": "code",
   "execution_count": null,
   "metadata": {},
   "outputs": [],
   "source": [
    "alter_table()"
   ]
  },
  {
   "cell_type": "code",
   "execution_count": null,
   "metadata": {},
   "outputs": [],
   "source": [
    "update_table()"
   ]
  },
  {
   "cell_type": "code",
   "execution_count": null,
   "metadata": {},
   "outputs": [],
   "source": [
    "create_table()"
   ]
  },
  {
   "cell_type": "code",
   "execution_count": null,
   "metadata": {},
   "outputs": [],
   "source": [
    "insert_into()"
   ]
  },
  {
   "cell_type": "code",
   "execution_count": null,
   "metadata": {},
   "outputs": [],
   "source": [
    "add_species_areas()"
   ]
  },
  {
   "cell_type": "code",
   "execution_count": null,
   "metadata": {},
   "outputs": [],
   "source": []
  }
 ],
 "metadata": {
  "kernelspec": {
   "display_name": "Python 2",
   "language": "python",
   "name": "python2"
  },
  "language_info": {
   "codemirror_mode": {
    "name": "ipython",
    "version": 2
   },
   "file_extension": ".py",
   "mimetype": "text/x-python",
   "name": "python",
   "nbconvert_exporter": "python",
   "pygments_lexer": "ipython2",
   "version": "2.7.15"
  }
 },
 "nbformat": 4,
 "nbformat_minor": 2
}
