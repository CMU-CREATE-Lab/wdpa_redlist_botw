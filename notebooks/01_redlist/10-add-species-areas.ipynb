{
 "cells": [
  {
   "cell_type": "code",
   "execution_count": 2,
   "metadata": {},
   "outputs": [],
   "source": [
    "import affine, concurrent, cStringIO, glob, IPython, json, os, PIL, sys, thread, time, traceback"
   ]
  },
  {
   "cell_type": "code",
   "execution_count": 14,
   "metadata": {},
   "outputs": [],
   "source": [
    "class SimpleProcessPoolExecutor(concurrent.futures.ProcessPoolExecutor):\n",
    "    def __init__(self, max_workers):\n",
    "        super(SimpleProcessPoolExecutor, self).__init__(max_workers=max_workers)\n",
    "        self.futures = []\n",
    "        \n",
    "    def submit(self, fn, *args, **kwargs):\n",
    "        future = super(SimpleProcessPoolExecutor, self).submit(fn, *args, **kwargs)\n",
    "        self.futures.append(future)\n",
    "        return future\n",
    "    \n",
    "    def get_futures(self):\n",
    "        return self.futures\n",
    "\n",
    "    def shutdown(self):\n",
    "        exception_count = 0\n",
    "        results = []\n",
    "        for completed in concurrent.futures.as_completed(self.futures):\n",
    "            try:\n",
    "                results.append(completed.result())\n",
    "            except Exception as e:\n",
    "                exception_count += 1\n",
    "                sys.stderr.write(\n",
    "                    'Exception caught in SimpleProcessPoolExecutor.shutdown.  Continuing until all are finished.\\n' +\n",
    "                    'Exception follows:\\n' +\n",
    "                    traceback.format_exc())\n",
    "        super(SimpleProcessPoolExecutor, self).shutdown()\n",
    "        if exception_count:\n",
    "            raise Exception('SimpleProcessPoolExecutor failed: %d of %d raised exception' % (exception_count, len(self.futures)))\n",
    "        print 'SimpleProcessPoolExecutor succeeded: all %d jobs completed' % (len(self.futures))\n",
    "        return results\n",
    "\n",
    "class Stopwatch:\n",
    "    def __init__(self, name):\n",
    "        self.name = name\n",
    "    def __enter__(self):\n",
    "        self.start = time.time()\n",
    "    def __exit__(self, type, value, traceback):\n",
    "        sys.stdout.write('%s took %.1f seconds\\n' % (self.name, time.time() - self.start))\n",
    "\n",
    "\n",
    "def add_column(tname):\n",
    "    c = \"\"\"\n",
    "    ALTER TABLE wdpa_%s_intersections \n",
    "    ADD COLUMN species_area double precision\n",
    "    ;\n",
    "    \"\"\"\n",
    "    c = c % (tname)\n",
    "    cmd = 'psql -d biodiversity -c \"%s\"' % c \n",
    "    !$cmd            \n",
    "\n",
    "def update_table(tname):\n",
    "    c = \"\"\"\n",
    "    UPDATE wdpa_%s_intersections\n",
    "    SET species_area = m.sum\n",
    "    FROM %s_areas as m\n",
    "    where \n",
    "    wdpa_%s_intersections.%s_gid = m.%s_gid\n",
    "    ;\n",
    "    \"\"\"\n",
    "    c = c % (tname, tname, tname, tname, tname)\n",
    "    cmd = 'psql -d biodiversity -c \"%s\"' % c \n",
    "    !$cmd            \n",
    "\n",
    "def rename_column(tname):\n",
    "    c = \"\"\"\n",
    "    ALTER TABLE wdpa_%s_intersections \n",
    "    RENAME COLUMN species_area TO %s_gid_area;    \n",
    "    \"\"\"\n",
    "    c = c % (tname, tname)\n",
    "    cmd = 'psql -d biodiversity -c \"%s\"' % c \n",
    "    !$cmd            \n",
    "    "
   ]
  },
  {
   "cell_type": "code",
   "execution_count": 9,
   "metadata": {},
   "outputs": [],
   "source": [
    "tnames = []\n",
    "for f in glob.glob(\"../../data/redlist/*/*.shp\"):\n",
    "    name = os.path.basename(f).split(\".\")[0]\n",
    "    tnames.append(name.lower())\n",
    "tnames.sort()"
   ]
  },
  {
   "cell_type": "code",
   "execution_count": null,
   "metadata": {},
   "outputs": [],
   "source": [
    "for tname in tnames:\n",
    "    add_column(tname)"
   ]
  },
  {
   "cell_type": "code",
   "execution_count": null,
   "metadata": {},
   "outputs": [],
   "source": [
    "exe = SimpleProcessPoolExecutor(max_workers=16)\n",
    "for tname in tnames:\n",
    "    exe.submit(update_table, tname)\n",
    "exe.shutdown()\n",
    "None"
   ]
  },
  {
   "cell_type": "code",
   "execution_count": 15,
   "metadata": {},
   "outputs": [
    {
     "name": "stdout",
     "output_type": "stream",
     "text": [
      "ERROR:  column \"species_area\" does not exist\n",
      "ALTER TABLE\n",
      "ALTER TABLE\n",
      "ALTER TABLE\n",
      "ALTER TABLE\n",
      "ALTER TABLE\n",
      "ALTER TABLE\n",
      "ALTER TABLE\n",
      "ALTER TABLE\n",
      "ALTER TABLE\n",
      "ALTER TABLE\n",
      "ALTER TABLE\n",
      "ALTER TABLE\n",
      "ALTER TABLE\n",
      "ALTER TABLE\n",
      "ALTER TABLE\n",
      "ALTER TABLE\n",
      "ALTER TABLE\n",
      "ALTER TABLE\n",
      "ALTER TABLE\n",
      "ALTER TABLE\n",
      "ALTER TABLE\n",
      "ALTER TABLE\n",
      "ALTER TABLE\n",
      "ALTER TABLE\n",
      "ALTER TABLE\n",
      "ALTER TABLE\n",
      "ALTER TABLE\n",
      "ALTER TABLE\n",
      "ALTER TABLE\n",
      "ALTER TABLE\n",
      "ALTER TABLE\n",
      "SimpleProcessPoolExecutor succeeded: all 32 jobs completed\n"
     ]
    }
   ],
   "source": [
    "exe = SimpleProcessPoolExecutor(max_workers=16)\n",
    "for tname in tnames:\n",
    "    exe.submit(rename_column, tname)\n",
    "exe.shutdown()\n",
    "None"
   ]
  },
  {
   "cell_type": "code",
   "execution_count": null,
   "metadata": {},
   "outputs": [],
   "source": []
  }
 ],
 "metadata": {
  "kernelspec": {
   "display_name": "Python 2",
   "language": "python",
   "name": "python2"
  },
  "language_info": {
   "codemirror_mode": {
    "name": "ipython",
    "version": 2
   },
   "file_extension": ".py",
   "mimetype": "text/x-python",
   "name": "python",
   "nbconvert_exporter": "python",
   "pygments_lexer": "ipython2",
   "version": "2.7.15"
  }
 },
 "nbformat": 4,
 "nbformat_minor": 2
}
