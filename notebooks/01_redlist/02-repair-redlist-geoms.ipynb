{
 "cells": [
  {
   "cell_type": "code",
   "execution_count": null,
   "metadata": {},
   "outputs": [],
   "source": [
    "import affine, concurrent, cStringIO, glob, IPython, json, os, PIL, sys, thread, time, traceback\n"
   ]
  },
  {
   "cell_type": "code",
   "execution_count": null,
   "metadata": {},
   "outputs": [],
   "source": [
    "class SimpleProcessPoolExecutor(concurrent.futures.ProcessPoolExecutor):\n",
    "    def __init__(self, max_workers):\n",
    "        super(SimpleProcessPoolExecutor, self).__init__(max_workers=max_workers)\n",
    "        self.futures = []\n",
    "        \n",
    "    def submit(self, fn, *args, **kwargs):\n",
    "        future = super(SimpleProcessPoolExecutor, self).submit(fn, *args, **kwargs)\n",
    "        self.futures.append(future)\n",
    "        return future\n",
    "    \n",
    "    def get_futures(self):\n",
    "        return self.futures\n",
    "\n",
    "    def shutdown(self):\n",
    "        exception_count = 0\n",
    "        results = []\n",
    "        for completed in concurrent.futures.as_completed(self.futures):\n",
    "            try:\n",
    "                results.append(completed.result())\n",
    "            except Exception as e:\n",
    "                exception_count += 1\n",
    "                sys.stderr.write(\n",
    "                    'Exception caught in SimpleProcessPoolExecutor.shutdown.  Continuing until all are finished.\\n' +\n",
    "                    'Exception follows:\\n' +\n",
    "                    traceback.format_exc())\n",
    "        super(SimpleProcessPoolExecutor, self).shutdown()\n",
    "        if exception_count:\n",
    "            raise Exception('SimpleProcessPoolExecutor failed: %d of %d raised exception' % (exception_count, len(self.futures)))\n",
    "        print 'SimpleProcessPoolExecutor succeeded: all %d jobs completed' % (len(self.futures))\n",
    "        return results\n",
    "\n",
    "class Stopwatch:\n",
    "    def __init__(self, name):\n",
    "        self.name = name\n",
    "    def __enter__(self):\n",
    "        self.start = time.time()\n",
    "    def __exit__(self, type, value, traceback):\n",
    "        sys.stdout.write('%s took %.1f seconds\\n' % (self.name, time.time() - self.start))\n"
   ]
  },
  {
   "cell_type": "code",
   "execution_count": null,
   "metadata": {},
   "outputs": [],
   "source": [
    "def make_valid(tname):\n",
    "    c = \"UPDATE %s SET geom=ST_MakeValid(geom) WHERE ST_IsValid(geom) = false;\" % tname\n",
    "    cmd = 'psql -d biodiversity -c \"%s\"' % c \n",
    "    !$cmd    \n",
    "    "
   ]
  },
  {
   "cell_type": "code",
   "execution_count": null,
   "metadata": {},
   "outputs": [],
   "source": [
    "def make_valid_gid(tname,gid):\n",
    "    c = \"UPDATE %s SET geom=ST_MakeValid(geom) WHERE gid = %s and ST_IsValid(geom) = false;\" % (tname, gid)\n",
    "    cmd = 'psql -d biodiversity -c \"%s\"' % c \n",
    "    !$cmd    \n"
   ]
  },
  {
   "cell_type": "code",
   "execution_count": null,
   "metadata": {},
   "outputs": [],
   "source": [
    "tnames = []\n",
    "for f in glob.glob(\"../../data/redlist/*/*.shp\"):\n",
    "    name = os.path.basename(f).split(\".\")[0]\n",
    "    tnames.append(name)\n",
    "tnames.sort()"
   ]
  },
  {
   "cell_type": "code",
   "execution_count": null,
   "metadata": {},
   "outputs": [],
   "source": [
    "len(tnames),\n",
    "tnames[16:32]"
   ]
  },
  {
   "cell_type": "code",
   "execution_count": null,
   "metadata": {},
   "outputs": [],
   "source": [
    "exe = SimpleProcessPoolExecutor(max_workers=12)\n",
    "\n",
    "for tname in tnames:\n",
    "    exe.submit(make_valid, tname)\n",
    "exe.shutdown()\n",
    "None"
   ]
  },
  {
   "cell_type": "code",
   "execution_count": null,
   "metadata": {},
   "outputs": [],
   "source": [
    "# make_valid_range('fw_plants', 0, 25)"
   ]
  },
  {
   "cell_type": "code",
   "execution_count": null,
   "metadata": {},
   "outputs": [],
   "source": [
    "#exe = SimpleProcessPoolExecutor(max_workers=16)\n",
    "\n",
    "#for i in range(0,3169):\n",
    "#    exe.submit(make_valid_gid, 'fw_plants', i)\n",
    "#exe.shutdown()\n",
    "#None"
   ]
  },
  {
   "cell_type": "code",
   "execution_count": null,
   "metadata": {},
   "outputs": [],
   "source": []
  },
  {
   "cell_type": "code",
   "execution_count": null,
   "metadata": {},
   "outputs": [],
   "source": []
  }
 ],
 "metadata": {
  "kernelspec": {
   "display_name": "Python 2",
   "language": "python",
   "name": "python2"
  },
  "language_info": {
   "codemirror_mode": {
    "name": "ipython",
    "version": 2
   },
   "file_extension": ".py",
   "mimetype": "text/x-python",
   "name": "python",
   "nbconvert_exporter": "python",
   "pygments_lexer": "ipython2",
   "version": "2.7.15"
  }
 },
 "nbformat": 4,
 "nbformat_minor": 2
}
