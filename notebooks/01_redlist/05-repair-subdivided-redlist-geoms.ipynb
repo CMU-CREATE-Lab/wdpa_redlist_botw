{
 "cells": [
  {
   "cell_type": "code",
   "execution_count": null,
   "metadata": {},
   "outputs": [],
   "source": [
    "import affine, concurrent, cStringIO, glob, IPython, json, os, PIL, sys, thread, time, traceback\n"
   ]
  },
  {
   "cell_type": "code",
   "execution_count": null,
   "metadata": {},
   "outputs": [],
   "source": [
    "class SimpleProcessPoolExecutor(concurrent.futures.ProcessPoolExecutor):\n",
    "    def __init__(self, max_workers):\n",
    "        super(SimpleProcessPoolExecutor, self).__init__(max_workers=max_workers)\n",
    "        self.futures = []\n",
    "        \n",
    "    def submit(self, fn, *args, **kwargs):\n",
    "        future = super(SimpleProcessPoolExecutor, self).submit(fn, *args, **kwargs)\n",
    "        self.futures.append(future)\n",
    "        return future\n",
    "    \n",
    "    def get_futures(self):\n",
    "        return self.futures\n",
    "\n",
    "    def shutdown(self):\n",
    "        exception_count = 0\n",
    "        results = []\n",
    "        for completed in concurrent.futures.as_completed(self.futures):\n",
    "            try:\n",
    "                results.append(completed.result())\n",
    "            except Exception as e:\n",
    "                exception_count += 1\n",
    "                sys.stderr.write(\n",
    "                    'Exception caught in SimpleProcessPoolExecutor.shutdown.  Continuing until all are finished.\\n' +\n",
    "                    'Exception follows:\\n' +\n",
    "                    traceback.format_exc())\n",
    "        super(SimpleProcessPoolExecutor, self).shutdown()\n",
    "        if exception_count:\n",
    "            raise Exception('SimpleProcessPoolExecutor failed: %d of %d raised exception' % (exception_count, len(self.futures)))\n",
    "        print 'SimpleProcessPoolExecutor succeeded: all %d jobs completed' % (len(self.futures))\n",
    "        return results\n",
    "\n",
    "class Stopwatch:\n",
    "    def __init__(self, name):\n",
    "        self.name = name\n",
    "    def __enter__(self):\n",
    "        self.start = time.time()\n",
    "    def __exit__(self, type, value, traceback):\n",
    "        sys.stdout.write('%s took %.1f seconds\\n' % (self.name, time.time() - self.start))\n",
    "\n",
    "\n",
    "def subdivide(tname):\n",
    "    c = \"CREATE TABLE IF NOT EXISTS %s_subdivided AS SELECT ST_SubDivide(geom) AS geom, gid as %s_gid FROM %s;\" % (tname, tname, tname)\n",
    "    cmd = 'psql -d biodiversity -c \"%s\"' % c \n",
    "    !$cmd\n",
    "    \n",
    "def create_index(tname):\n",
    "    c = \"CREATE INDEX IF NOT EXISTS %s_geom_idx ON %s USING GIST (geom);\" % (tname, tname)\n",
    "    cmd = 'psql -d biodiversity -c \"%s\"' % c \n",
    "    !$cmd    \n",
    "    \n",
    "def vacuum_table(tname):\n",
    "    c = \"VACUUM ANALYZE %s;\" % tname\n",
    "    cmd = 'psql -d biodiversity -c \"%s\"' % c \n",
    "    !$cmd   \n",
    "    \n",
    "def make_valid(tname):\n",
    "    c = \"UPDATE %s SET geom=ST_MakeValid(geom) WHERE ST_IsValid(geom) = false;\" % tname\n",
    "    cmd = 'psql -d biodiversity -c \"%s\"' % c \n",
    "    !$cmd    "
   ]
  },
  {
   "cell_type": "code",
   "execution_count": null,
   "metadata": {},
   "outputs": [],
   "source": [
    "tnames = []\n",
    "for f in glob.glob(\"../../data/redlist/*/*.shp\"):\n",
    "    name = os.path.basename(f).split(\".\")[0]\n",
    "    tnames.append(name.lower())\n",
    "tnames.sort()\n",
    "tnames"
   ]
  },
  {
   "cell_type": "code",
   "execution_count": null,
   "metadata": {},
   "outputs": [],
   "source": [
    "exe = SimpleProcessPoolExecutor(max_workers=16)\n",
    "for tname in tnames:\n",
    "    exe.submit(make_valid, tname.lower() + '_subdivided')\n",
    "exe.shutdown()\n",
    "None"
   ]
  },
  {
   "cell_type": "code",
   "execution_count": null,
   "metadata": {},
   "outputs": [],
   "source": [
    "exe = SimpleProcessPoolExecutor(max_workers=12)\n",
    "for tname in tnames:\n",
    "    exe.submit(create_index, tname.lower() + '_subdivided')\n",
    "exe.shutdown()\n",
    "None"
   ]
  },
  {
   "cell_type": "code",
   "execution_count": null,
   "metadata": {},
   "outputs": [],
   "source": [
    "exe = SimpleProcessPoolExecutor(max_workers=12)\n",
    "for tname in tnames:\n",
    "    exe.submit(vacuum_table, tname.lower() + '_subdivided')\n",
    "exe.shutdown()\n",
    "None"
   ]
  },
  {
   "cell_type": "code",
   "execution_count": null,
   "metadata": {},
   "outputs": [],
   "source": [
    "# Check validity \n",
    "def is_valid(tname):\n",
    "    print \"START \" + tname\n",
    "    c = \"\"\"\n",
    "    SELECT %s_gid, ST_IsValidReason(geom)\n",
    "    FROM %s_subdivided\n",
    "    WHERE ST_IsValid(geom) = false\n",
    "    \"\"\"\n",
    "    c = c % (tname, tname)\n",
    "    cmd = 'psql -d biodiversity -c \"%s\"' % c \n",
    "    !$cmd\n",
    "    print \"END \" + tname"
   ]
  },
  {
   "cell_type": "code",
   "execution_count": null,
   "metadata": {},
   "outputs": [],
   "source": [
    "for tname in tnames:\n",
    "    is_valid(tname)\n"
   ]
  },
  {
   "cell_type": "code",
   "execution_count": null,
   "metadata": {},
   "outputs": [],
   "source": []
  }
 ],
 "metadata": {
  "kernelspec": {
   "display_name": "Python 2",
   "language": "python",
   "name": "python2"
  },
  "language_info": {
   "codemirror_mode": {
    "name": "ipython",
    "version": 2
   },
   "file_extension": ".py",
   "mimetype": "text/x-python",
   "name": "python",
   "nbconvert_exporter": "python",
   "pygments_lexer": "ipython2",
   "version": "2.7.15"
  }
 },
 "nbformat": 4,
 "nbformat_minor": 2
}
