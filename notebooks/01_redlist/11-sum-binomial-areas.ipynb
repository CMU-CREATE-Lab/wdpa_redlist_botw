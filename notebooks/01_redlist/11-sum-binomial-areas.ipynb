{
 "cells": [
  {
   "cell_type": "code",
   "execution_count": 51,
   "metadata": {},
   "outputs": [],
   "source": [
    "import affine, concurrent, cStringIO, glob, IPython, json, os, PIL, sys, thread, time, traceback\n",
    "# add binomial column to areas\n",
    "\n",
    "# sum areas by binomial column\n",
    "\n",
    "class SimpleProcessPoolExecutor(concurrent.futures.ProcessPoolExecutor):\n",
    "    def __init__(self, max_workers):\n",
    "        super(SimpleProcessPoolExecutor, self).__init__(max_workers=max_workers)\n",
    "        self.futures = []\n",
    "        \n",
    "    def submit(self, fn, *args, **kwargs):\n",
    "        future = super(SimpleProcessPoolExecutor, self).submit(fn, *args, **kwargs)\n",
    "        self.futures.append(future)\n",
    "        return future\n",
    "    \n",
    "    def get_futures(self):\n",
    "        return self.futures\n",
    "\n",
    "    def shutdown(self):\n",
    "        exception_count = 0\n",
    "        results = []\n",
    "        for completed in concurrent.futures.as_completed(self.futures):\n",
    "            try:\n",
    "                results.append(completed.result())\n",
    "            except Exception as e:\n",
    "                exception_count += 1\n",
    "                sys.stderr.write(\n",
    "                    'Exception caught in SimpleProcessPoolExecutor.shutdown.  Continuing until all are finished.\\n' +\n",
    "                    'Exception follows:\\n' +\n",
    "                    traceback.format_exc())\n",
    "        super(SimpleProcessPoolExecutor, self).shutdown()\n",
    "        if exception_count:\n",
    "            raise Exception('SimpleProcessPoolExecutor failed: %d of %d raised exception' % (exception_count, len(self.futures)))\n",
    "        print 'SimpleProcessPoolExecutor succeeded: all %d jobs completed' % (len(self.futures))\n",
    "        return results\n",
    "\n",
    "class Stopwatch:\n",
    "    def __init__(self, name):\n",
    "        self.name = name\n",
    "    def __enter__(self):\n",
    "        self.start = time.time()\n",
    "    def __exit__(self, type, value, traceback):\n",
    "        sys.stdout.write('%s took %.1f seconds\\n' % (self.name, time.time() - self.start))\n"
   ]
  },
  {
   "cell_type": "code",
   "execution_count": 52,
   "metadata": {},
   "outputs": [],
   "source": [
    "def select_into(tname):\n",
    "    c = \"\"\"\n",
    "    SELECT \n",
    "      m.binomial as binomial,\n",
    "      sum(sum) as area    \n",
    "    INTO TABLE %s_binomial_areas\n",
    "    FROM %s_areas\n",
    "    INNER JOIN %s as m\n",
    "    ON %s_gid = m.gid\n",
    "    WHERE m.presence <= 3 AND (m.code = 'CR' OR m.code = 'EN' OR m.code = 'VU' OR m.code = 'NT' OR m.code = 'LC')\n",
    "    GROUP BY m.binomial\n",
    "    ;\n",
    "    \"\"\"\n",
    "    c = c % (tname, tname, tname, tname)\n",
    "    cmd = 'psql -d biodiversity -c \"%s\"' % c \n",
    "    !$cmd            \n",
    "\n",
    "def drop_table(tname):\n",
    "    c = \"\"\"\n",
    "    DROP TABLE %s_binomial_areas\n",
    "    ;\n",
    "    \"\"\"\n",
    "    c = c % (tname)\n",
    "    cmd = 'psql -d biodiversity -c \"%s\"' % c \n",
    "    !$cmd            \n",
    "\n",
    "def create_index(tname):\n",
    "    c = \"CREATE UNIQUE INDEX IF NOT EXISTS %s_binomial_idx ON %s_binomial_areas (binomial);\" % (tname, tname)\n",
    "    cmd = 'psql -d biodiversity -c \"%s\"' % c \n",
    "    !$cmd    \n",
    "\n",
    "def vacuum_table(tname):\n",
    "    c = \"VACUUM ANALYZE %s_binomial_areas;\" % tname\n",
    "    cmd = 'psql -d biodiversity -c \"%s\"' % c \n",
    "    !$cmd   \n"
   ]
  },
  {
   "cell_type": "code",
   "execution_count": 53,
   "metadata": {},
   "outputs": [],
   "source": [
    "tnames = []\n",
    "for f in glob.glob(\"../../data/redlist/*/*.shp\"):\n",
    "    name = os.path.basename(f).split(\".\")[0]\n",
    "    tnames.append(name.lower())\n",
    "tnames.sort()"
   ]
  },
  {
   "cell_type": "code",
   "execution_count": 54,
   "metadata": {},
   "outputs": [
    {
     "name": "stdout",
     "output_type": "stream",
     "text": [
      "SELECT 7\n",
      "SELECT 545\n",
      "SELECT 84\n",
      "SELECT 246\n",
      "SELECT 15\n",
      "SELECT 120\n",
      "SELECT 444\n",
      "SELECT 444\n",
      "SELECT 122\n",
      "SELECT 375\n",
      "SELECT 633\n",
      "SELECT 836\n",
      "SELECT 473\n",
      "SELECT 5022\n",
      "SELECT 46\n",
      "SELECT 638\n",
      "SELECT 4746\n",
      "SELECT 160\n",
      "SELECT 74\n",
      "SELECT 1072\n",
      "SELECT 113\n",
      "SELECT 123\n",
      "SELECT 63\n",
      "SELECT 148\n",
      "SELECT 74\n",
      "SELECT 127\n",
      "SELECT 50\n",
      "SELECT 1352\n",
      "SELECT 519\n",
      "SELECT 4455\n",
      "SELECT 4926\n",
      "SELECT 1075\n",
      "SimpleProcessPoolExecutor succeeded: all 32 jobs completed\n"
     ]
    }
   ],
   "source": [
    "exe = SimpleProcessPoolExecutor(max_workers=8)\n",
    "for tname in tnames:\n",
    "    exe.submit(select_into, tname)\n",
    "exe.shutdown()\n",
    "None"
   ]
  },
  {
   "cell_type": "code",
   "execution_count": 49,
   "metadata": {},
   "outputs": [],
   "source": [
    "def test():\n",
    "    c = \"\"\"\n",
    "    SELECT \n",
    "      mammals_gid, \n",
    "      sum\n",
    "    FROM mammals_areas\n",
    "    ORDER BY mammals_gid\n",
    "    LIMIT 10\n",
    "    \"\"\"\n",
    "    cmd = 'psql -d biodiversity -c \"%s\"' % c \n",
    "    !$cmd            \n",
    "\n",
    "def test1():\n",
    "    c = \"\"\"\n",
    "    SELECT \n",
    "      mammals_gid, \n",
    "      sum,\n",
    "      m.binomial,\n",
    "      m.code,\n",
    "      m.presence\n",
    "    FROM mammals_areas\n",
    "    INNER JOIN mammals as m\n",
    "    ON mammals_gid = m.gid\n",
    "    ORDER BY mammals_gid\n",
    "    LIMIT 10\n",
    "    \"\"\"\n",
    "    cmd = 'psql -d biodiversity -c \"%s\"' % c \n",
    "    !$cmd            \n",
    "\n",
    "def test2():\n",
    "    c = \"\"\"\n",
    "    SELECT \n",
    "      mammals_gid, \n",
    "      sum,\n",
    "      m.binomial,\n",
    "      m.code,\n",
    "      m.presence\n",
    "    FROM mammals_areas\n",
    "    INNER JOIN mammals as m\n",
    "    ON mammals_gid = m.gid\n",
    "    WHERE m.presence <= 3\n",
    "    ORDER BY mammals_gid\n",
    "    LIMIT 10\n",
    "    \"\"\"\n",
    "    cmd = 'psql -d biodiversity -c \"%s\"' % c \n",
    "    !$cmd            \n",
    "\n",
    "def test3():\n",
    "    c = \"\"\"\n",
    "    SELECT \n",
    "      mammals_gid, \n",
    "      sum,\n",
    "      m.binomial,\n",
    "      m.code,\n",
    "      m.presence\n",
    "    FROM mammals_areas\n",
    "    INNER JOIN mammals as m\n",
    "    ON mammals_gid = m.gid\n",
    "    WHERE m.presence <= 3 AND (m.code = 'CR' OR m.code = 'EN' OR m.code = 'VU' OR m.code = 'NT' OR m.code = 'LC')\n",
    "    ORDER BY mammals_gid\n",
    "    LIMIT 20\n",
    "    \"\"\"\n",
    "    cmd = 'psql -d biodiversity -c \"%s\"' % c \n",
    "    !$cmd            \n",
    "\n",
    "def test4():\n",
    "    c = \"\"\"\n",
    "    SELECT \n",
    "      sum(sum),\n",
    "      m.binomial\n",
    "    FROM mammals_areas\n",
    "    INNER JOIN mammals as m\n",
    "    ON mammals_gid = m.gid\n",
    "    WHERE m.presence <= 3 AND (m.code = 'CR' OR m.code = 'EN' OR m.code = 'VU' OR m.code = 'NT' OR m.code = 'LC')\n",
    "    AND m.binomial = 'Ursus arctos'\n",
    "    GROUP BY m.binomial\n",
    "    LIMIT 20\n",
    "    \"\"\"\n",
    "    cmd = 'psql -d biodiversity -c \"%s\"' % c \n",
    "    !$cmd            \n",
    "\n",
    "\n",
    "def test5():\n",
    "    c = \"\"\"\n",
    "    SELECT \n",
    "      sum(sum),\n",
    "      m.binomial\n",
    "    FROM mammals_areas\n",
    "    INNER JOIN mammals as m\n",
    "    ON mammals_gid = m.gid\n",
    "    WHERE m.presence <= 3 AND (m.code = 'CR' OR m.code = 'EN' OR m.code = 'VU' OR m.code = 'NT' OR m.code = 'LC')\n",
    "    AND m.binomial = 'Panthera pardus'\n",
    "    GROUP BY m.binomial\n",
    "    LIMIT 20\n",
    "    \"\"\"\n",
    "    cmd = 'psql -d biodiversity -c \"%s\"' % c \n",
    "    !$cmd            \n",
    "\n",
    "\n",
    "def test6():\n",
    "    c = \"\"\"\n",
    "    SELECT \n",
    "      sum(sum),\n",
    "      m.binomial\n",
    "    FROM mammals_areas\n",
    "    INNER JOIN mammals as m\n",
    "    ON mammals_gid = m.gid\n",
    "    WHERE m.presence <= 3 AND (m.code = 'CR' OR m.code = 'EN' OR m.code = 'VU' OR m.code = 'NT' OR m.code = 'LC')\n",
    "    GROUP BY m.binomial\n",
    "    LIMIT 20\n",
    "    \"\"\"\n",
    "    cmd = 'psql -d biodiversity -c \"%s\"' % c \n",
    "    !$cmd            \n",
    "    \n",
    "# binomial_areas\n"
   ]
  },
  {
   "cell_type": "code",
   "execution_count": 37,
   "metadata": {},
   "outputs": [
    {
     "name": "stdout",
     "output_type": "stream",
     "text": [
      " mammals_gid |       sum        \r\n",
      "-------------+------------------\r\n",
      "           1 | 1671888231208.87\r\n",
      "           2 | 32436934065.5834\r\n",
      "           3 | 15631438827921.1\r\n",
      "           4 | 44942107589.3607\r\n",
      "           5 | 492727889873.587\r\n",
      "           6 | 5435242870.87612\r\n",
      "           7 |  25551356153.122\r\n",
      "           8 | 4487552483021.24\r\n",
      "           9 | 110865026443.533\r\n",
      "          10 | 42794195400.4554\r\n",
      "(10 rows)\r\n",
      "\r\n"
     ]
    }
   ],
   "source": [
    "test()"
   ]
  },
  {
   "cell_type": "code",
   "execution_count": 38,
   "metadata": {},
   "outputs": [
    {
     "name": "stdout",
     "output_type": "stream",
     "text": [
      " mammals_gid |       sum        |         binomial          | code | presence \r\n",
      "-------------+------------------+---------------------------+------+----------\r\n",
      "           1 | 1671888231208.87 | Chaetophractus vellerosus | LC   |        1\r\n",
      "           2 | 32436934065.5834 | Chaetophractus vellerosus | LC   |        6\r\n",
      "           3 | 15631438827921.1 | Ursus arctos              | LC   |        1\r\n",
      "           4 | 44942107589.3607 | Ursus arctos              | LC   |        1\r\n",
      "           5 | 492727889873.587 | Aotus nancymaae           | VU   |        1\r\n",
      "           6 | 5435242870.87612 | Ursus arctos              | LC   |        1\r\n",
      "           7 |  25551356153.122 | Ursus arctos              | LC   |        1\r\n",
      "           8 | 4487552483021.24 | Ursus arctos              | LC   |        1\r\n",
      "           9 | 110865026443.533 | Ursus arctos              | LC   |        1\r\n",
      "          10 | 42794195400.4554 | Ursus arctos              | LC   |        3\r\n",
      "(10 rows)\r\n",
      "\r\n"
     ]
    }
   ],
   "source": [
    "test1()"
   ]
  },
  {
   "cell_type": "code",
   "execution_count": 39,
   "metadata": {},
   "outputs": [
    {
     "name": "stdout",
     "output_type": "stream",
     "text": [
      " mammals_gid |       sum        |         binomial          | code | presence \r\n",
      "-------------+------------------+---------------------------+------+----------\r\n",
      "           1 | 1671888231208.87 | Chaetophractus vellerosus | LC   |        1\r\n",
      "           3 | 15631438827921.1 | Ursus arctos              | LC   |        1\r\n",
      "           4 | 44942107589.3607 | Ursus arctos              | LC   |        1\r\n",
      "           5 | 492727889873.587 | Aotus nancymaae           | VU   |        1\r\n",
      "           6 | 5435242870.87612 | Ursus arctos              | LC   |        1\r\n",
      "           7 |  25551356153.122 | Ursus arctos              | LC   |        1\r\n",
      "           8 | 4487552483021.24 | Ursus arctos              | LC   |        1\r\n",
      "           9 | 110865026443.533 | Ursus arctos              | LC   |        1\r\n",
      "          10 | 42794195400.4554 | Ursus arctos              | LC   |        3\r\n",
      "          11 | 4407000667.81231 | Ursus arctos              | LC   |        1\r\n",
      "(10 rows)\r\n",
      "\r\n"
     ]
    }
   ],
   "source": [
    "test2()"
   ]
  },
  {
   "cell_type": "code",
   "execution_count": 40,
   "metadata": {},
   "outputs": [
    {
     "name": "stdout",
     "output_type": "stream",
     "text": [
      " mammals_gid |       sum        |         binomial          | code | presence \r\n",
      "-------------+------------------+---------------------------+------+----------\r\n",
      "           1 | 1671888231208.87 | Chaetophractus vellerosus | LC   |        1\r\n",
      "           3 | 15631438827921.1 | Ursus arctos              | LC   |        1\r\n",
      "           4 | 44942107589.3607 | Ursus arctos              | LC   |        1\r\n",
      "           5 | 492727889873.587 | Aotus nancymaae           | VU   |        1\r\n",
      "           6 | 5435242870.87612 | Ursus arctos              | LC   |        1\r\n",
      "           7 |  25551356153.122 | Ursus arctos              | LC   |        1\r\n",
      "           8 | 4487552483021.24 | Ursus arctos              | LC   |        1\r\n",
      "           9 | 110865026443.533 | Ursus arctos              | LC   |        1\r\n",
      "          10 | 42794195400.4554 | Ursus arctos              | LC   |        3\r\n",
      "          11 | 4407000667.81231 | Ursus arctos              | LC   |        1\r\n",
      "          12 | 4267748809.04101 | Ursus arctos              | LC   |        1\r\n",
      "          13 | 80525984198.7383 | Ursus arctos              | LC   |        1\r\n",
      "          14 | 9843067489.88855 | Ursus arctos              | LC   |        1\r\n",
      "          15 | 2884592484.87616 | Ursus arctos              | LC   |        3\r\n",
      "          16 | 12431312693.7649 | Ursus arctos              | LC   |        1\r\n",
      "          17 | 6408818499.59966 | Ursus arctos              | LC   |        1\r\n",
      "          18 | 606319120730.948 | Ursus arctos              | LC   |        3\r\n",
      "          19 | 38026287831.3864 | Ursus arctos              | LC   |        1\r\n",
      "          20 | 863934114.705982 | Ursus arctos              | LC   |        1\r\n",
      "          21 | 45041321801.2393 | Ursus arctos              | LC   |        1\r\n",
      "(20 rows)\r\n",
      "\r\n"
     ]
    }
   ],
   "source": [
    "test3()"
   ]
  },
  {
   "cell_type": "code",
   "execution_count": 46,
   "metadata": {},
   "outputs": [
    {
     "name": "stdout",
     "output_type": "stream",
     "text": [
      "       sum        |   binomial   \r\n",
      "------------------+--------------\r\n",
      " 26277928707660.8 | Ursus arctos\r\n",
      "(1 row)\r\n",
      "\r\n"
     ]
    }
   ],
   "source": [
    "test4()"
   ]
  },
  {
   "cell_type": "code",
   "execution_count": 48,
   "metadata": {},
   "outputs": [
    {
     "name": "stdout",
     "output_type": "stream",
     "text": [
      "       sum        |    binomial     \r\n",
      "------------------+-----------------\r\n",
      " 9255538235228.58 | Panthera pardus\r\n",
      "(1 row)\r\n",
      "\r\n"
     ]
    }
   ],
   "source": [
    "test5()"
   ]
  },
  {
   "cell_type": "code",
   "execution_count": 50,
   "metadata": {},
   "outputs": [
    {
     "name": "stdout",
     "output_type": "stream",
     "text": [
      "       sum        |          binomial          \r\n",
      "------------------+----------------------------\r\n",
      "  6945015045255.2 | Sciurus aestuans\r\n",
      " 5375562627.85295 | Ctenomys bergi\r\n",
      " 49536868152.3531 | Tapirus pinchaque\r\n",
      " 825439749676.726 | Myotis moluccarum\r\n",
      "    7608708978123 | Paradoxurus hermaphroditus\r\n",
      " 974851065775.895 | Plecotus kolombatovici\r\n",
      " 4049956359060.59 | Myotis yumanensis\r\n",
      " 15402283005.9793 | Loris tardigradus\r\n",
      " 127971071880.446 | Otonyctomys hatti\r\n",
      " 955768579997.909 | Neacomys paracou\r\n",
      " 806705244554.949 | Iomys horsfieldii\r\n",
      " 386564063966.565 | Necromys benefactus\r\n",
      " 33302602228.0439 | Hipposideros wollastoni\r\n",
      "  2913164400236.9 | Nyctalus lasiopterus\r\n",
      " 35593689679.7343 | Zyzomys woodwardi\r\n",
      " 1665160808546.24 | Dasymys rufulus\r\n",
      " 8702708066483.73 | Myodes glareolus\r\n",
      " 139737011770.345 | Capricornis crispus\r\n",
      " 7373918770080.23 | Chalinolobus gouldii\r\n",
      " 1058407807356.17 | Thaptomys nigrita\r\n",
      "(20 rows)\r\n",
      "\r\n"
     ]
    }
   ],
   "source": [
    "test6()"
   ]
  },
  {
   "cell_type": "code",
   "execution_count": null,
   "metadata": {},
   "outputs": [],
   "source": []
  }
 ],
 "metadata": {
  "kernelspec": {
   "display_name": "Python 2",
   "language": "python",
   "name": "python2"
  },
  "language_info": {
   "codemirror_mode": {
    "name": "ipython",
    "version": 2
   },
   "file_extension": ".py",
   "mimetype": "text/x-python",
   "name": "python",
   "nbconvert_exporter": "python",
   "pygments_lexer": "ipython2",
   "version": "2.7.15"
  }
 },
 "nbformat": 4,
 "nbformat_minor": 2
}
