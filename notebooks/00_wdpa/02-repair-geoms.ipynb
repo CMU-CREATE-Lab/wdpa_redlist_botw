{
 "cells": [
  {
   "cell_type": "code",
   "execution_count": null,
   "metadata": {},
   "outputs": [],
   "source": [
    "c = \"\"\"\n",
    "UPDATE wdpa_june2018_shapefile_polygons  \n",
    "SET geom=ST_MakeValid(geom)\n",
    "WHERE ST_IsValid(geom) = false\n",
    "\"\"\"\n",
    "cmd = 'psql -d biodiversity -c \"%s\"' % c \n",
    "!$cmd"
   ]
  },
  {
   "cell_type": "code",
   "execution_count": null,
   "metadata": {},
   "outputs": [],
   "source": [
    "c = \"\"\"\n",
    "REINDEX INDEX WDPA_June2018_shapefile_polygons_geom_idx;\n",
    "\"\"\"\n",
    "cmd = 'psql -d biodiversity -c \"%s\"' % c \n",
    "!$cmd\n"
   ]
  },
  {
   "cell_type": "code",
   "execution_count": null,
   "metadata": {},
   "outputs": [],
   "source": [
    "!psql -d biodiversity -c \"VACUUM ANALYZE WDPA_June2018_shapefile_polygons;\"\n"
   ]
  },
  {
   "cell_type": "code",
   "execution_count": null,
   "metadata": {},
   "outputs": [],
   "source": []
  }
 ],
 "metadata": {
  "kernelspec": {
   "display_name": "Python 2",
   "language": "python",
   "name": "python2"
  },
  "language_info": {
   "codemirror_mode": {
    "name": "ipython",
    "version": 2
   },
   "file_extension": ".py",
   "mimetype": "text/x-python",
   "name": "python",
   "nbconvert_exporter": "python",
   "pygments_lexer": "ipython2",
   "version": "2.7.15"
  }
 },
 "nbformat": 4,
 "nbformat_minor": 2
}
